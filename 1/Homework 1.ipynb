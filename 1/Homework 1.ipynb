{
 "cells": [
  {
   "cell_type": "markdown",
   "metadata": {},
   "source": [
    " __1.__ Исследовать на линейную зависимость:\n",
    "\n",
    "$$f_{1}(x)=e^{x}, f_{2}(x)=1, f_{3}(x)=x+1, f_{4}(x)=x-e^{x}.$$"
   ]
  },
  {
   "cell_type": "markdown",
   "metadata": {},
   "source": [
    "#### Решение\n",
    "$$f_{1} = f_{3} - f_{2} - f_{4}$$\n",
    "Следовательно, указанные векторы линейно зависимы."
   ]
  },
  {
   "cell_type": "markdown",
   "metadata": {},
   "source": [
    " __2.__ Исследовать на линейную зависимость:\n",
    "$$f_{1}(x)=2, f_{2}(x)=x, f_{3}(x)=x^{2}, f_{4}(x)=(x+1)^{2}$$"
   ]
  },
  {
   "cell_type": "markdown",
   "metadata": {},
   "source": [
    "#### Решение\n",
    "$$f_{4}=f_{3}+2\\cdot{f_{2}}+0.5\\cdot{f_{1}}$$\n",
    "Следовательно, указанные векторы линейно зависимы."
   ]
  },
  {
   "cell_type": "markdown",
   "metadata": {},
   "source": [
    "__3.__ Найти координаты вектора $x = (2, 3, 5)\\in \\mathbb{R}^{3}$ в базисе $b_{1}=(0, 0, 10)$, $b_{2}=(2, 0, 0)$, $b_{3}=(0, 1, 0)$."
   ]
  },
  {
   "cell_type": "markdown",
   "metadata": {},
   "source": [
    "#### Решение"
   ]
  },
  {
   "cell_type": "markdown",
   "metadata": {},
   "source": [
    "$$x = b_{2} + 3\\cdot{b_{3}} + 0.5\\cdot{b_{1}}$$\n",
    "т.е. координаты x = (0.5, 1, 3)"
   ]
  },
  {
   "cell_type": "markdown",
   "metadata": {},
   "source": [
    "__4.__ Найти координаты вектора $3x^{2}-2x+2\\in\\mathbb{R}^{3}[x]$:\n",
    "\n",
    "а) в базисе $1$, $x$, $x^{2}$;\n",
    "\n",
    "б) в базисе $x^{2}$, $x-1$, $1$."
   ]
  },
  {
   "cell_type": "markdown",
   "metadata": {},
   "source": [
    "а)$$3x^{2}-2x+2=2-2x+3x^{2}$$\n",
    "Координаты: (2, -2, 3)\n",
    "\n",
    "б) $$3x^{2}-2x+2=3x^{2}-2\\cdot{(x-1)}$$\n",
    "Координаты: (3, -2, 0)"
   ]
  },
  {
   "cell_type": "markdown",
   "metadata": {},
   "source": [
    "__5.__ Установить, является ли линейным подпространством:\n",
    "\n",
    "а) совокупность всех векторов трехмерного пространства, у которых по крайней мере одна из первых двух координат равна нулю;\n",
    "    \n",
    "б) все векторы, являющиеся линейными комбинациями данных векторов $\\{u_{1}, u_{2}, \\ldots, u_{n}\\}$."
   ]
  },
  {
   "cell_type": "markdown",
   "metadata": {},
   "source": [
    "#### Решение"
   ]
  },
  {
   "cell_type": "markdown",
   "metadata": {},
   "source": [
    "a) Нет, т.к. (0, a, b) + (c, 0, d) = (c, a, b+d), c и a не равны 0. Ни одна из первых двух координат вектора суммы не равна нулю, следовательно совокупность указанных векторов не является линейным подпространством.\n",
    "\n",
    "б) "
   ]
  },
  {
   "cell_type": "markdown",
   "metadata": {},
   "source": [
    "### Часть 2"
   ]
  },
  {
   "cell_type": "markdown",
   "metadata": {},
   "source": [
    "__1.__ Найти скалярное произведение векторов $x, y \\in \\mathbb{R}$:<br>\n",
    "а) $x=(0,-3, 6),~y=(-4, 7, 9);$<br>\n",
    "б) $x=(7, -4, 0, 1),~y=(-3, 1, 11, 2).$"
   ]
  },
  {
   "cell_type": "markdown",
   "metadata": {},
   "source": [
    "#### Решение"
   ]
  },
  {
   "cell_type": "code",
   "execution_count": 12,
   "metadata": {},
   "outputs": [
    {
     "data": {
      "text/plain": [
       "33"
      ]
     },
     "execution_count": 12,
     "metadata": {},
     "output_type": "execute_result"
    }
   ],
   "source": [
    "0 * -4 + (-3 * 7) + 6 * 9"
   ]
  },
  {
   "cell_type": "code",
   "execution_count": 13,
   "metadata": {},
   "outputs": [
    {
     "data": {
      "text/plain": [
       "33"
      ]
     },
     "execution_count": 13,
     "metadata": {},
     "output_type": "execute_result"
    }
   ],
   "source": [
    "import numpy as np\n",
    "\n",
    "x = np.array([0, -3, 6])\n",
    "y = np.array([-4, 7, 9])\n",
    "\n",
    "np.dot(x, y)"
   ]
  },
  {
   "cell_type": "code",
   "execution_count": 14,
   "metadata": {},
   "outputs": [
    {
     "data": {
      "text/plain": [
       "-23"
      ]
     },
     "execution_count": 14,
     "metadata": {},
     "output_type": "execute_result"
    }
   ],
   "source": [
    "7 * -3 + (-4 * 1) + 0 * 11 + 1 * 2"
   ]
  },
  {
   "cell_type": "code",
   "execution_count": 15,
   "metadata": {},
   "outputs": [
    {
     "data": {
      "text/plain": [
       "-23"
      ]
     },
     "execution_count": 15,
     "metadata": {},
     "output_type": "execute_result"
    }
   ],
   "source": [
    "x = np.array([7, -4, 0, 1])\n",
    "y = np.array([-3, 1, 11, 2])\n",
    "\n",
    "np.dot(x, y)"
   ]
  },
  {
   "cell_type": "markdown",
   "metadata": {},
   "source": [
    "__2.__ Найти нормы векторов $(4, 2, 4)$ и $(12, 3, 4)$ и угол между ними."
   ]
  },
  {
   "cell_type": "code",
   "execution_count": 17,
   "metadata": {},
   "outputs": [],
   "source": [
    "a = np.array([4, 2, 4])\n",
    "b = np.array([12, 3, 4])"
   ]
  },
  {
   "cell_type": "code",
   "execution_count": 16,
   "metadata": {},
   "outputs": [
    {
     "data": {
      "text/plain": [
       "(10, 19)"
      ]
     },
     "execution_count": 16,
     "metadata": {},
     "output_type": "execute_result"
    }
   ],
   "source": [
    "# p = 1\n",
    "4 + 2 + 4, 12 + 3 + 4"
   ]
  },
  {
   "cell_type": "code",
   "execution_count": 18,
   "metadata": {},
   "outputs": [
    {
     "data": {
      "text/plain": [
       "(10.0, 19.0)"
      ]
     },
     "execution_count": 18,
     "metadata": {},
     "output_type": "execute_result"
    }
   ],
   "source": [
    "from numpy.linalg import norm\n",
    "\n",
    "norm(a, ord=1), norm(b, ord=1)"
   ]
  },
  {
   "cell_type": "code",
   "execution_count": 24,
   "metadata": {},
   "outputs": [
    {
     "data": {
      "text/plain": [
       "(6.0, 13.0)"
      ]
     },
     "execution_count": 24,
     "metadata": {},
     "output_type": "execute_result"
    }
   ],
   "source": [
    "# p = 2\n",
    "from math import sqrt\n",
    "\n",
    "na = sqrt(4**2 + 2**2 + 4**2)\n",
    "nb = sqrt(12**2 + 3**2 + 4**2)\n",
    "\n",
    "na, nb"
   ]
  },
  {
   "cell_type": "code",
   "execution_count": 21,
   "metadata": {},
   "outputs": [
    {
     "data": {
      "text/plain": [
       "(6.0, 13.0)"
      ]
     },
     "execution_count": 21,
     "metadata": {},
     "output_type": "execute_result"
    }
   ],
   "source": [
    "norm(a, ord=2), norm(b, ord=2)"
   ]
  },
  {
   "cell_type": "code",
   "execution_count": 35,
   "metadata": {},
   "outputs": [
    {
     "data": {
      "text/plain": [
       "0.4568740035326613"
      ]
     },
     "execution_count": 35,
     "metadata": {},
     "output_type": "execute_result"
    }
   ],
   "source": [
    "# угол между векторами\n",
    "from math import acos\n",
    "\n",
    "cos_a = np.dot(a, b) / na / nb\n",
    "acos(cos_a) # в радианах"
   ]
  },
  {
   "cell_type": "markdown",
   "metadata": {},
   "source": [
    "__3.__ Будет ли линейное пространство евклидовым, если за скалярное произведение принять:<br>\n",
    "а) произведение длин векторов;<br>\n",
    "б) утроенное обычное скалярное произведение векторов?<br>"
   ]
  },
  {
   "cell_type": "markdown",
   "metadata": {},
   "source": [
    "#### Решение\n",
    "\n",
    "а) Да, т.к. длина вектора >= 0, следовательно произведение двух длин >= 0.\n",
    "\n",
    "б) Нет. Например:"
   ]
  },
  {
   "cell_type": "code",
   "execution_count": 39,
   "metadata": {},
   "outputs": [
    {
     "data": {
      "text/plain": [
       "-2"
      ]
     },
     "execution_count": 39,
     "metadata": {},
     "output_type": "execute_result"
    }
   ],
   "source": [
    "a = np.array([1, 0])\n",
    "b = np.array([-2, 0])\n",
    "np.dot(a, b)"
   ]
  },
  {
   "cell_type": "markdown",
   "metadata": {},
   "source": [
    "Меньше нуля, т.е. нарушает правильно скалярного произведения для евклидова пространства."
   ]
  },
  {
   "cell_type": "markdown",
   "metadata": {},
   "source": [
    "__4.__ Какие из нижеперечисленных векторов образуют ортонормированный базис в линейном пространстве $\\mathbb{R}^{3}$:<br>\n",
    "а) $(1,0,0),(0,0,1);$ <br>\n",
    "б) $(1/\\sqrt{2},-1/\\sqrt{2},0),(1/\\sqrt{2},1/\\sqrt{2},0), (0,0,1);$<br>\n",
    "в) $(1/2, -1/2, 0), (0, 1/2, 1/2), (0,0,1);$<br>\n",
    "г) $(1,0,0),(0,1,0),(0,0,1)?$ "
   ]
  },
  {
   "cell_type": "markdown",
   "metadata": {},
   "source": [
    "#### Решение"
   ]
  },
  {
   "cell_type": "code",
   "execution_count": 42,
   "metadata": {},
   "outputs": [
    {
     "data": {
      "text/plain": [
       "(0, 1.0, 1.0)"
      ]
     },
     "execution_count": 42,
     "metadata": {},
     "output_type": "execute_result"
    }
   ],
   "source": [
    "# а)  (1,0,0),(0,0,1)\n",
    "a = np.array([1, 0, 0])\n",
    "b = np.array([0, 0, 1])\n",
    "\n",
    "np.dot(a, b), norm(a, ord=2), norm(b, ord=2)"
   ]
  },
  {
   "cell_type": "markdown",
   "metadata": {},
   "source": [
    "a) - да"
   ]
  },
  {
   "cell_type": "code",
   "execution_count": 46,
   "metadata": {},
   "outputs": [
    {
     "data": {
      "text/plain": [
       "(0.9999999999999998, 0.0, 0.9999999999999999, 0.9999999999999999, 1.0)"
      ]
     },
     "execution_count": 46,
     "metadata": {},
     "output_type": "execute_result"
    }
   ],
   "source": [
    "# б)  (1/2⎯⎯√,−1/2⎯⎯√,0),(1/2⎯⎯√,1/2⎯⎯√,0),(0,0,1)\n",
    "a = np.array([1/sqrt(2), 1/sqrt(2), 0])\n",
    "b = np.array([1/sqrt(2), 1/sqrt(2), 0])\n",
    "c = np.array([0, 0, 1])\n",
    "\n",
    "np.dot(a, b), np.dot(b, c), norm(a, ord=2), norm(b, ord=2), norm(c)"
   ]
  },
  {
   "cell_type": "markdown",
   "metadata": {},
   "source": [
    "б) - нет, т.к. a@b = 1"
   ]
  },
  {
   "cell_type": "markdown",
   "metadata": {},
   "source": [
    "в) (1/2,−1/2,0),(0,1/2,1/2),(0,0,1)\n",
    "a@b = 0 - 1/4 + 0 = -1/4, следовательно нет, не является\n",
    "\n",
    "и длина a = sqrt(1/4 + 1/4 + 0) = sqrt(1/8)"
   ]
  },
  {
   "cell_type": "markdown",
   "metadata": {},
   "source": [
    "г) (1,0,0),(0,1,0),(0,0,1)\n",
    "Да, это стандартный базис R3"
   ]
  },
  {
   "cell_type": "code",
   "execution_count": null,
   "metadata": {},
   "outputs": [],
   "source": []
  }
 ],
 "metadata": {
  "kernelspec": {
   "display_name": "Python 3",
   "language": "python",
   "name": "python3"
  },
  "language_info": {
   "codemirror_mode": {
    "name": "ipython",
    "version": 3
   },
   "file_extension": ".py",
   "mimetype": "text/x-python",
   "name": "python",
   "nbconvert_exporter": "python",
   "pygments_lexer": "ipython3",
   "version": "3.8.5"
  }
 },
 "nbformat": 4,
 "nbformat_minor": 4
}
